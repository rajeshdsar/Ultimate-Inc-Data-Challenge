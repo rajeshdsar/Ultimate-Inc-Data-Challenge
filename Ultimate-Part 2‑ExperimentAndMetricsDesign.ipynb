{
 "cells": [
  {
   "cell_type": "markdown",
   "metadata": {},
   "source": [
    "# Part 2 ‑ Experiment and metrics design\n",
    "\n",
    "The neighboring cities of Gotham and Metropolis have complementary circadian rhythms: on weekdays, Ultimate Gotham is most active at night, and Ultimate Metropolis is most active during the day. On weekends, there is reasonable activity in both cities.\n",
    "\n",
    "However, a toll bridge, with a two way toll, between the two cities causes driver partners to tend to be exclusive to each city. The Ultimate managers of city operations for the two cities have proposed an experiment to encourage driver partners to be available in both cities, by reimbursing all toll costs.\n",
    "\n",
    "<ol>\n",
    "<li> What would you choose as the key measure of success of this experiment in encouraging driver partners to serve both cities, and why would you choose this metric?</li>\n",
    "<li> Describe a practical experiment you would design to compare the effectiveness of the proposed change in relation to the key measure of success. Please provide details on:\n",
    "<ol>\n",
    "<li>how you will implement the experiment</li>\n",
    "\n",
    "<li>what statistical test(s) you will conduct to verify the significance of the observation</li>\n",
    "\n",
    "<li>how you would interpret the results and provide recommendations to the city operations team along with any caveats.</li>\n",
    "</ol>\n",
    "</li>\n",
    "</ol>\n",
    "\n",
    "***"
   ]
  },
  {
   "cell_type": "markdown",
   "metadata": {},
   "source": [
    "_1. What would you choose as the key measure of success of this experiment in encouraging driver partners to serve both cities, and why would you choose this metric?_\n",
    "\n",
    "### Response: ###\n",
    "\n",
    "Assuming that when there are more people/ riders willing to take cross-city rides and they are limited by the number of non-exclusive driver partners (i.e. driver partners who do not restrict them to one or the other city) being available, the following measures of success can be used to determine the success of the experiment\n",
    "\n",
    "<ol>\n",
    "    <li> *** The number of cross-city rides per day: *** A cross-city ride is where the rider starts in one city (Gotham or Metropolis) and ends in the other city, this measure would count the total number of cross-city trips that happen on a given day. If this experiment were to be successful, Ultimate Inc. should see an increase in the number of cross-city trips taken per day. This measure or metric can be used if and only when the data about the originating and terminating location of each trip is available. The disadvatage of this metric would be that the riders may not like their starting and end points of the trips being tracked. It could be handled by anonymizing or delinking the ride data from the user data.\n",
    "    </li>\n",
    "    <li> *** The number of rides per day: *** Since the ultimate objective of Ultimate inc is to increase the revenue or in other words the number of rides that riders take in a day. If this experiment were to be successful, Ultimate Inc. should see an increase in the number of trips taken per day. Unlike the other metric, this would not need information about the originating and terminating location of each trip is available, reducing concerns about privacy, which might be an important factory. However, the caveat in using the metric would be that the other factors that may cause increase in ridership would have to be controlled. For example, if there a concert or a multi-day carnival that happens, there will be an increase in the number of trips taken, but the reason for the increase is not because of tolls being reimbursed.\n",
    "    </li>\n",
    "    <li> *** The number of tolls paid by the driver partners per day: *** If the goal of Ultimate Inc is to specifically increase the revenue by promoting cross-city rides, measuring the number of tolls paid by its driver partners in a day can help measure the success of the experiment. If there is an increase in the total number of tolls paid (the tolls would be reimbursed in this experiment), it could indicate that the experiment is a success. This metric can be used only when the historical data about the tolls paid are available. Ohter caveat for this metric would be same as the one applicable for the previous metric, i.e. the factors that my cause increase in the rides should be controlled.\n",
    "    </li>\n",
    "</ol>\n",
    "\n"
   ]
  },
  {
   "cell_type": "markdown",
   "metadata": {},
   "source": [
    "<i>\n",
    "<ol start=\"2\">\n",
    "<li> Describe a practical experiment you would design to compare the effectiveness of the proposed change in relation to the key measure of success. Please provide details on:\n",
    "<ol>\n",
    "<li>how you will implement the experiment</li>\n",
    "<li>what statistical test(s) you will conduct to verify the significance of the observation</li>\n",
    "<li>how you would interpret the results and provide recommendations to the city operations team along with any caveats.</li>\n",
    "</ol>\n",
    "</li>\n",
    "</ol>\n",
    "</i>\n",
    "\n",
    "### Response: ###\n",
    "\n",
    "The key idea of the experiment would be to form a ** Treatment group ** and a ** Control group **. The Treatment group would be the group where we will expect to see an increase in the total number of rides (which could be seen as the \"output variable\" or the \"dependent variable\") based on providing a new facility by which the tolls will be reimbursed (this would be the \"input variable\" or the \"independent variable\"). There are two ways by which we can set these two groups\n",
    "\n",
    "1. **Approach 1**: Providing the toll reimbursement factility to all driver partners over a certain period of time, say September through December, (_Treatment group_) and compare the rider patterns during the same period in the prior year (_Control group_).\n",
    "2. **Approach 2**: Providing a randomly selected existing / potential driver partners with the toll reimbursement factility who will become the _Treatment group_ and comparing their  to a randomly selected existing / potential driver partners who do not have the facility to get the toll costs reimbursed, this group will be the _Control group_.\n",
    "\n",
    "\n",
    "Once the Treatment group and the Control group in place and the ride data is available, the next step would be to compare the data using inferential statistics.\n",
    "\n",
    "The question here is find out if there is a difference in the measure (total rides or the total cross-city rides) between the Treatment group and the Control group and if oberved difference between two groups is really significant or if it is due instead to random chance. \n",
    "\n",
    "Assuming that there is a large number of samples / observations and the population standard deviation σ of the measure is unknown a **two sample $t$ test** can be used to find if reimbusring tolls lead to increase in driver partners who provide rides across the cities. \n",
    "\n",
    "When testing for the two groups, one of the following can occur\n",
    "1. There is no **real** difference between these groups, or in other words, there is a reasonable probability that the difference observed is due to chance. This is also known as the Null hypotesis\n",
    "2. There is a **real** difference between the two groups. Or, in other words, all of the observed difference in the measures between the two groups cannot be explained by random chance.\n",
    " \n",
    "The biggest caveat in interpreting the results would be the strength of how the experiment is designed. The way the groups are chosen should ensure that there are no other factors that affect the ridership, for example, if we choose a group in which there are more people who commute to work across town in one of the groups, the result or the observed difference that we see may not be just because of introducing toll reimbursement. Next caveat in using the results is the validity of the measures being chosen. If the goal of Ultimate Inc is to increase cross city ridership, how well does the measure (any of the three mentioned in the previous response) chosen reflect the increase in cross city ridership.\n"
   ]
  },
  {
   "cell_type": "code",
   "execution_count": null,
   "metadata": {
    "collapsed": true
   },
   "outputs": [],
   "source": []
  },
  {
   "cell_type": "code",
   "execution_count": null,
   "metadata": {
    "collapsed": true
   },
   "outputs": [],
   "source": []
  },
  {
   "cell_type": "code",
   "execution_count": null,
   "metadata": {
    "collapsed": true
   },
   "outputs": [],
   "source": []
  }
 ],
 "metadata": {
  "celltoolbar": "Raw Cell Format",
  "kernelspec": {
   "display_name": "Python [default]",
   "language": "python",
   "name": "python3"
  },
  "language_info": {
   "codemirror_mode": {
    "name": "ipython",
    "version": 3
   },
   "file_extension": ".py",
   "mimetype": "text/x-python",
   "name": "python",
   "nbconvert_exporter": "python",
   "pygments_lexer": "ipython3",
   "version": "3.5.2"
  }
 },
 "nbformat": 4,
 "nbformat_minor": 1
}
